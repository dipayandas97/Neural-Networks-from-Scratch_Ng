{
  "nbformat": 4,
  "nbformat_minor": 0,
  "metadata": {
    "colab": {
      "name": "DNN_scratch_Ng_2.ipynb",
      "version": "0.3.2",
      "provenance": [],
      "collapsed_sections": [],
      "include_colab_link": true
    },
    "kernelspec": {
      "name": "python3",
      "display_name": "Python 3"
    },
    "accelerator": "GPU"
  },
  "cells": [
    {
      "cell_type": "markdown",
      "metadata": {
        "id": "view-in-github",
        "colab_type": "text"
      },
      "source": [
        "<a href=\"https://colab.research.google.com/github/dipayandas97/Neural-Networks-from-Scratch_Ng/blob/master/DNN_scratch_Ng_2.ipynb\" target=\"_parent\"><img src=\"https://colab.research.google.com/assets/colab-badge.svg\" alt=\"Open In Colab\"/></a>"
      ]
    },
    {
      "cell_type": "code",
      "metadata": {
        "id": "Rg2lP7sX7FD8",
        "colab_type": "code",
        "colab": {
          "base_uri": "https://localhost:8080/",
          "height": 34
        },
        "outputId": "7c01fbdd-d5bb-486f-f175-00a56df1fcba"
      },
      "source": [
        "import numpy as np\n",
        "import keras\n",
        "from keras.layers import Dense\n",
        "from keras.models import Sequential"
      ],
      "execution_count": 2,
      "outputs": [
        {
          "output_type": "stream",
          "text": [
            "Using TensorFlow backend.\n"
          ],
          "name": "stderr"
        }
      ]
    },
    {
      "cell_type": "code",
      "metadata": {
        "id": "7bTbPMKK7jfk",
        "colab_type": "code",
        "colab": {}
      },
      "source": [
        "from google.colab import files\n",
        "import io\n",
        "import pandas as pd"
      ],
      "execution_count": 0,
      "outputs": []
    },
    {
      "cell_type": "code",
      "metadata": {
        "id": "QPwjDsmEtl_6",
        "colab_type": "code",
        "colab": {
          "resources": {
            "http://localhost:8080/nbextensions/google.colab/files.js": {
              "data": "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",
              "ok": true,
              "headers": [
                [
                  "content-type",
                  "application/javascript"
                ]
              ],
              "status": 200,
              "status_text": ""
            }
          },
          "base_uri": "https://localhost:8080/",
          "height": 91
        },
        "outputId": "6d8cc797-0302-437f-db4b-614c0bb06801"
      },
      "source": [
        "dataset = files.upload()"
      ],
      "execution_count": 4,
      "outputs": [
        {
          "output_type": "display_data",
          "data": {
            "text/html": [
              "\n",
              "     <input type=\"file\" id=\"files-68ead2c3-48ed-4a13-ba8c-d3aa48e76718\" name=\"files[]\" multiple disabled />\n",
              "     <output id=\"result-68ead2c3-48ed-4a13-ba8c-d3aa48e76718\">\n",
              "      Upload widget is only available when the cell has been executed in the\n",
              "      current browser session. Please rerun this cell to enable.\n",
              "      </output>\n",
              "      <script src=\"/nbextensions/google.colab/files.js\"></script> "
            ],
            "text/plain": [
              "<IPython.core.display.HTML object>"
            ]
          },
          "metadata": {
            "tags": []
          }
        },
        {
          "output_type": "stream",
          "text": [
            "Saving breast_cancer_MB.csv to breast_cancer_MB.csv\n"
          ],
          "name": "stdout"
        }
      ]
    },
    {
      "cell_type": "markdown",
      "metadata": {
        "id": "pwJignMa8jj4",
        "colab_type": "text"
      },
      "source": [
        "dataset = files.upload()00"
      ]
    },
    {
      "cell_type": "code",
      "metadata": {
        "id": "da9TGFSQ8xDH",
        "colab_type": "code",
        "colab": {}
      },
      "source": [
        "data_frame = pd.read_csv(io.BytesIO(dataset['breast_cancer_MB.csv']))\n",
        "data = data_frame.values"
      ],
      "execution_count": 0,
      "outputs": []
    },
    {
      "cell_type": "code",
      "metadata": {
        "id": "CZddv_KM83Cn",
        "colab_type": "code",
        "colab": {
          "base_uri": "https://localhost:8080/",
          "height": 34
        },
        "outputId": "f7d9e80d-2607-4898-e6ac-b8f2fbd403c7"
      },
      "source": [
        "X = data[:,2:-1].reshape(30, 569).astype('float64')\n",
        "Y = data[:,1].reshape(1, 569)\n",
        "\n",
        "for row in range(X.shape[0]):\n",
        "  X[row,:] = (X[row,:] - np.mean(X[row,:])) / np.std(X[row,:])\n",
        "\n",
        "Y[ Y == 'M'] = int(0.0)\n",
        "Y[ Y == 'B'] = int(1.0)\n",
        "Y = Y.astype('float64')\n",
        "\n",
        "n = X.shape[0] # number of features 30\n",
        "m = X.shape[1] # number of training examples 569\n",
        "\n",
        "np.max(X[1,:])"
      ],
      "execution_count": 6,
      "outputs": [
        {
          "output_type": "execute_result",
          "data": {
            "text/plain": [
              "9.02174893054445"
            ]
          },
          "metadata": {
            "tags": []
          },
          "execution_count": 6
        }
      ]
    },
    {
      "cell_type": "code",
      "metadata": {
        "id": "7l9fALRmB7Nu",
        "colab_type": "code",
        "colab": {}
      },
      "source": [
        "def activation(inp=[], tag=''):\n",
        "  \n",
        "  if 'sigmoid' in tag:\n",
        "    return 1 /( 1 + np.exp(-inp))\n",
        "  \n",
        "  elif 'softplus' in tag:\n",
        "    return np.log(1 + np.exp(inp))"
      ],
      "execution_count": 0,
      "outputs": []
    },
    {
      "cell_type": "code",
      "metadata": {
        "id": "RON_CAb0TuNX",
        "colab_type": "code",
        "colab": {}
      },
      "source": [
        "def activation_derivative(inp=[], tag=''):\n",
        "  \n",
        "  if 'sigmoid' in tag:\n",
        "    a = activation(inp=inp,tag='sigmoid')\n",
        "    return a*(1-a)\n",
        "  \n",
        "  elif 'softplus' in tag:\n",
        "     return 1 /( 1 + np.exp(-inp))"
      ],
      "execution_count": 0,
      "outputs": []
    },
    {
      "cell_type": "code",
      "metadata": {
        "id": "QobVnCvnnI1B",
        "colab_type": "code",
        "colab": {}
      },
      "source": [
        "def feed_forward(W,X,B):\n",
        "  Z = np.dot(W, X) + B\n",
        "  return Z  "
      ],
      "execution_count": 0,
      "outputs": []
    },
    {
      "cell_type": "code",
      "metadata": {
        "id": "cF36SCFmoQuM",
        "colab_type": "code",
        "colab": {}
      },
      "source": [
        "def evaluate(inp):\n",
        "  z1 = feed_forward(W1,inp,B1)\n",
        "  a1 = activation(z1, tag='softplus')\n",
        "\n",
        "  z2 = feed_forward(W2,a1,B2)\n",
        "  a2 = activation(z2, tag='sigmoid')\n",
        "  return a2"
      ],
      "execution_count": 0,
      "outputs": []
    },
    {
      "cell_type": "code",
      "metadata": {
        "id": "v4WCE9oC-ldP",
        "colab_type": "code",
        "colab": {}
      },
      "source": [
        "N = [30, 15, 1] # number of neurons in each layer from 0 to 2\n",
        "\n",
        "W1 = np.random.randn(N[1], N[0])\n",
        "B1 = np.random.randn(N[1]).reshape(N[1],1)\n",
        "\n",
        "W2 = np.random.randn(N[2], N[1])\n",
        "B2 = np.random.randn(N[2]).reshape(N[2],1)\n",
        "\n",
        "lrs = [1.5]\n"
      ],
      "execution_count": 0,
      "outputs": []
    },
    {
      "cell_type": "code",
      "metadata": {
        "id": "BvGvWIkBCMMr",
        "colab_type": "code",
        "colab": {
          "base_uri": "https://localhost:8080/",
          "height": 353
        },
        "outputId": "070faeb4-cf0e-4f34-eae3-9a319439ea8d"
      },
      "source": [
        "epochs = 20000\n",
        "\n",
        "for lr in lrs:\n",
        "  \n",
        "  W1 = np.random.randn(N[1], N[0])\n",
        "  B1 = np.random.randn(N[1]).reshape(N[1],1)\n",
        "\n",
        "  W2 = np.random.randn(N[2], N[1])\n",
        "  B2 = np.random.randn(N[2]).reshape(N[2],1)\n",
        "  \n",
        "  for epoch in range(epochs):\n",
        "    \n",
        "    # Feed forward\n",
        "\n",
        "    Z1 = feed_forward(W1,X,B1)\n",
        "    A1 = activation(Z1, tag='softplus')\n",
        "    Z2 = feed_forward(W2,A1,B2)\n",
        "    A2 = activation(Z2,tag='sigmoid')\n",
        "\n",
        "    # Back prop\n",
        "\n",
        "    dZ_2 = A2 - Y\n",
        "    dW_2 = np.dot(dZ_2, A1.T) / m  \n",
        "    dB_2 = np.sum(dZ_2, axis = 1, keepdims = True) / m\n",
        "\n",
        "    dZ_1 = np.dot(W2.T,dZ_2) * activation_derivative(Z2, tag='softplus')\n",
        "    dW_1 = np.dot(dZ_1, X.T) / m\n",
        "    dB_1 = np.sum(dZ_1, axis = 1, keepdims = True) / m\n",
        "  \n",
        "    W1 = W1 - ( lr * dW_1 )\n",
        "    W2 = W2 - ( lr * dW_2 )\n",
        "    B1 = B1 - ( lr * dB_1 )\n",
        "    B2 = B2 - ( lr * dB_2 )\n",
        "  \n",
        "    if epoch%(epochs/20) == 0:\n",
        "      score = 0.0\n",
        "      for i in range(m):\n",
        "        inp =  X[:,i].reshape(30,1) \n",
        "  \n",
        "        if evaluate(inp) < 0.5 and Y[0,i]==0: \n",
        "         score+=1\n",
        "        elif evaluate(inp)>0.5 and Y[0,i]==1:\n",
        "          score+=1\n",
        "\n",
        "      score /= m\n",
        "      print('epochs done: ',(epoch+(epochs/20)),'/',epochs,'|| Accuracy: ',score*100)\n"
      ],
      "execution_count": 17,
      "outputs": [
        {
          "output_type": "stream",
          "text": [
            "epochs done:  1000.0 / 20000 || Accuracy:  62.741652021089635\n",
            "epochs done:  2000.0 / 20000 || Accuracy:  63.971880492091394\n",
            "epochs done:  3000.0 / 20000 || Accuracy:  64.49912126537785\n",
            "epochs done:  4000.0 / 20000 || Accuracy:  64.49912126537785\n",
            "epochs done:  5000.0 / 20000 || Accuracy:  64.14762741652021\n",
            "epochs done:  6000.0 / 20000 || Accuracy:  64.49912126537785\n",
            "epochs done:  7000.0 / 20000 || Accuracy:  64.49912126537785\n",
            "epochs done:  8000.0 / 20000 || Accuracy:  63.44463971880492\n",
            "epochs done:  9000.0 / 20000 || Accuracy:  63.2688927943761\n",
            "epochs done:  10000.0 / 20000 || Accuracy:  63.79613356766256\n",
            "epochs done:  11000.0 / 20000 || Accuracy:  64.49912126537785\n",
            "epochs done:  12000.0 / 20000 || Accuracy:  64.67486818980667\n",
            "epochs done:  13000.0 / 20000 || Accuracy:  63.44463971880492\n",
            "epochs done:  14000.0 / 20000 || Accuracy:  64.49912126537785\n",
            "epochs done:  15000.0 / 20000 || Accuracy:  65.02636203866432\n",
            "epochs done:  16000.0 / 20000 || Accuracy:  63.971880492091394\n",
            "epochs done:  17000.0 / 20000 || Accuracy:  64.32337434094903\n",
            "epochs done:  18000.0 / 20000 || Accuracy:  66.60808435852373\n",
            "epochs done:  19000.0 / 20000 || Accuracy:  64.14762741652021\n",
            "epochs done:  20000.0 / 20000 || Accuracy:  65.37785588752196\n"
          ],
          "name": "stdout"
        }
      ]
    },
    {
      "cell_type": "code",
      "metadata": {
        "id": "1H0hYLQme0vl",
        "colab_type": "code",
        "colab": {
          "base_uri": "https://localhost:8080/",
          "height": 1000
        },
        "outputId": "ca942eb2-608c-4b28-ef55-8317b62a303b"
      },
      "source": [
        "#Keras Equivalent\n",
        "model = Sequential()\n",
        "model.add(Dense(50, activation = 'sigmoid', input_dim = 30))\n",
        "model.add(Dense(1, activation = 'sigmoid'))\n",
        "model.compile(loss = 'binary_crossentropy', \n",
        "              optimizer = 'adam', metrics = ['accuracy'])\n",
        "\n",
        "x_new = X.T\n",
        "y_new = Y.T\n",
        "\n",
        "model.fit(x_new,y_new, epochs = 100, verbose = 1) "
      ],
      "execution_count": 35,
      "outputs": [
        {
          "output_type": "stream",
          "text": [
            "WARNING: Logging before flag parsing goes to stderr.\n",
            "W0726 12:31:54.584790 139836499564416 deprecation_wrapper.py:119] From /usr/local/lib/python3.6/dist-packages/keras/backend/tensorflow_backend.py:74: The name tf.get_default_graph is deprecated. Please use tf.compat.v1.get_default_graph instead.\n",
            "\n",
            "W0726 12:31:54.630654 139836499564416 deprecation_wrapper.py:119] From /usr/local/lib/python3.6/dist-packages/keras/backend/tensorflow_backend.py:517: The name tf.placeholder is deprecated. Please use tf.compat.v1.placeholder instead.\n",
            "\n",
            "W0726 12:31:54.639040 139836499564416 deprecation_wrapper.py:119] From /usr/local/lib/python3.6/dist-packages/keras/backend/tensorflow_backend.py:4138: The name tf.random_uniform is deprecated. Please use tf.random.uniform instead.\n",
            "\n",
            "W0726 12:31:54.677977 139836499564416 deprecation_wrapper.py:119] From /usr/local/lib/python3.6/dist-packages/keras/optimizers.py:790: The name tf.train.Optimizer is deprecated. Please use tf.compat.v1.train.Optimizer instead.\n",
            "\n",
            "W0726 12:31:54.702791 139836499564416 deprecation_wrapper.py:119] From /usr/local/lib/python3.6/dist-packages/keras/backend/tensorflow_backend.py:3376: The name tf.log is deprecated. Please use tf.math.log instead.\n",
            "\n",
            "W0726 12:31:54.709864 139836499564416 deprecation.py:323] From /usr/local/lib/python3.6/dist-packages/tensorflow/python/ops/nn_impl.py:180: add_dispatch_support.<locals>.wrapper (from tensorflow.python.ops.array_ops) is deprecated and will be removed in a future version.\n",
            "Instructions for updating:\n",
            "Use tf.where in 2.0, which has the same broadcast rule as np.where\n",
            "W0726 12:31:55.086655 139836499564416 deprecation_wrapper.py:119] From /usr/local/lib/python3.6/dist-packages/keras/backend/tensorflow_backend.py:986: The name tf.assign_add is deprecated. Please use tf.compat.v1.assign_add instead.\n",
            "\n"
          ],
          "name": "stderr"
        },
        {
          "output_type": "stream",
          "text": [
            "Epoch 1/100\n",
            "569/569 [==============================] - 1s 1ms/step - loss: 0.9452 - acc: 0.3726\n",
            "Epoch 2/100\n",
            "569/569 [==============================] - 0s 48us/step - loss: 0.8001 - acc: 0.3761\n",
            "Epoch 3/100\n",
            "569/569 [==============================] - 0s 45us/step - loss: 0.7118 - acc: 0.4499\n",
            "Epoch 4/100\n",
            "569/569 [==============================] - 0s 47us/step - loss: 0.6736 - acc: 0.5835\n",
            "Epoch 5/100\n",
            "569/569 [==============================] - 0s 51us/step - loss: 0.6571 - acc: 0.6362\n",
            "Epoch 6/100\n",
            "569/569 [==============================] - 0s 45us/step - loss: 0.6517 - acc: 0.6362\n",
            "Epoch 7/100\n",
            "569/569 [==============================] - 0s 50us/step - loss: 0.6489 - acc: 0.6380\n",
            "Epoch 8/100\n",
            "569/569 [==============================] - 0s 47us/step - loss: 0.6471 - acc: 0.6344\n",
            "Epoch 9/100\n",
            "569/569 [==============================] - 0s 50us/step - loss: 0.6452 - acc: 0.6397\n",
            "Epoch 10/100\n",
            "569/569 [==============================] - 0s 42us/step - loss: 0.6438 - acc: 0.6397\n",
            "Epoch 11/100\n",
            "569/569 [==============================] - 0s 49us/step - loss: 0.6424 - acc: 0.6380\n",
            "Epoch 12/100\n",
            "569/569 [==============================] - 0s 47us/step - loss: 0.6411 - acc: 0.6432\n",
            "Epoch 13/100\n",
            "569/569 [==============================] - 0s 48us/step - loss: 0.6397 - acc: 0.6450\n",
            "Epoch 14/100\n",
            "569/569 [==============================] - 0s 48us/step - loss: 0.6388 - acc: 0.6450\n",
            "Epoch 15/100\n",
            "569/569 [==============================] - 0s 50us/step - loss: 0.6387 - acc: 0.6485\n",
            "Epoch 16/100\n",
            "569/569 [==============================] - 0s 45us/step - loss: 0.6374 - acc: 0.6555\n",
            "Epoch 17/100\n",
            "569/569 [==============================] - 0s 44us/step - loss: 0.6372 - acc: 0.6520\n",
            "Epoch 18/100\n",
            "569/569 [==============================] - 0s 43us/step - loss: 0.6358 - acc: 0.6503\n",
            "Epoch 19/100\n",
            "569/569 [==============================] - 0s 44us/step - loss: 0.6350 - acc: 0.6503\n",
            "Epoch 20/100\n",
            "569/569 [==============================] - 0s 43us/step - loss: 0.6346 - acc: 0.6485\n",
            "Epoch 21/100\n",
            "569/569 [==============================] - 0s 46us/step - loss: 0.6337 - acc: 0.6485\n",
            "Epoch 22/100\n",
            "569/569 [==============================] - 0s 52us/step - loss: 0.6331 - acc: 0.6503\n",
            "Epoch 23/100\n",
            "569/569 [==============================] - 0s 52us/step - loss: 0.6326 - acc: 0.6485\n",
            "Epoch 24/100\n",
            "569/569 [==============================] - 0s 48us/step - loss: 0.6319 - acc: 0.6503\n",
            "Epoch 25/100\n",
            "569/569 [==============================] - 0s 46us/step - loss: 0.6315 - acc: 0.6555\n",
            "Epoch 26/100\n",
            "569/569 [==============================] - 0s 47us/step - loss: 0.6318 - acc: 0.6520\n",
            "Epoch 27/100\n",
            "569/569 [==============================] - 0s 52us/step - loss: 0.6307 - acc: 0.6467\n",
            "Epoch 28/100\n",
            "569/569 [==============================] - 0s 38us/step - loss: 0.6304 - acc: 0.6538\n",
            "Epoch 29/100\n",
            "569/569 [==============================] - 0s 47us/step - loss: 0.6298 - acc: 0.6485\n",
            "Epoch 30/100\n",
            "569/569 [==============================] - 0s 45us/step - loss: 0.6293 - acc: 0.6555\n",
            "Epoch 31/100\n",
            "569/569 [==============================] - 0s 45us/step - loss: 0.6295 - acc: 0.6503\n",
            "Epoch 32/100\n",
            "569/569 [==============================] - 0s 42us/step - loss: 0.6291 - acc: 0.6555\n",
            "Epoch 33/100\n",
            "569/569 [==============================] - 0s 44us/step - loss: 0.6290 - acc: 0.6397\n",
            "Epoch 34/100\n",
            "569/569 [==============================] - 0s 47us/step - loss: 0.6286 - acc: 0.6485\n",
            "Epoch 35/100\n",
            "569/569 [==============================] - 0s 43us/step - loss: 0.6292 - acc: 0.6432\n",
            "Epoch 36/100\n",
            "569/569 [==============================] - 0s 43us/step - loss: 0.6280 - acc: 0.6520\n",
            "Epoch 37/100\n",
            "569/569 [==============================] - 0s 51us/step - loss: 0.6270 - acc: 0.6503\n",
            "Epoch 38/100\n",
            "569/569 [==============================] - 0s 49us/step - loss: 0.6272 - acc: 0.6432\n",
            "Epoch 39/100\n",
            "569/569 [==============================] - 0s 46us/step - loss: 0.6264 - acc: 0.6450\n",
            "Epoch 40/100\n",
            "569/569 [==============================] - 0s 49us/step - loss: 0.6268 - acc: 0.6485\n",
            "Epoch 41/100\n",
            "569/569 [==============================] - 0s 48us/step - loss: 0.6258 - acc: 0.6485\n",
            "Epoch 42/100\n",
            "569/569 [==============================] - 0s 45us/step - loss: 0.6267 - acc: 0.6415\n",
            "Epoch 43/100\n",
            "569/569 [==============================] - 0s 52us/step - loss: 0.6262 - acc: 0.6432\n",
            "Epoch 44/100\n",
            "569/569 [==============================] - 0s 49us/step - loss: 0.6254 - acc: 0.6450\n",
            "Epoch 45/100\n",
            "569/569 [==============================] - 0s 49us/step - loss: 0.6250 - acc: 0.6397\n",
            "Epoch 46/100\n",
            "569/569 [==============================] - 0s 48us/step - loss: 0.6249 - acc: 0.6432\n",
            "Epoch 47/100\n",
            "569/569 [==============================] - 0s 51us/step - loss: 0.6247 - acc: 0.6467\n",
            "Epoch 48/100\n",
            "569/569 [==============================] - 0s 49us/step - loss: 0.6246 - acc: 0.6450\n",
            "Epoch 49/100\n",
            "569/569 [==============================] - 0s 52us/step - loss: 0.6246 - acc: 0.6467\n",
            "Epoch 50/100\n",
            "569/569 [==============================] - 0s 46us/step - loss: 0.6242 - acc: 0.6432\n",
            "Epoch 51/100\n",
            "569/569 [==============================] - 0s 45us/step - loss: 0.6238 - acc: 0.6415\n",
            "Epoch 52/100\n",
            "569/569 [==============================] - 0s 45us/step - loss: 0.6238 - acc: 0.6467\n",
            "Epoch 53/100\n",
            "569/569 [==============================] - 0s 46us/step - loss: 0.6242 - acc: 0.6450\n",
            "Epoch 54/100\n",
            "569/569 [==============================] - 0s 43us/step - loss: 0.6236 - acc: 0.6467\n",
            "Epoch 55/100\n",
            "569/569 [==============================] - 0s 50us/step - loss: 0.6229 - acc: 0.6432\n",
            "Epoch 56/100\n",
            "569/569 [==============================] - 0s 43us/step - loss: 0.6228 - acc: 0.6415\n",
            "Epoch 57/100\n",
            "569/569 [==============================] - 0s 52us/step - loss: 0.6225 - acc: 0.6467\n",
            "Epoch 58/100\n",
            "569/569 [==============================] - 0s 55us/step - loss: 0.6228 - acc: 0.6520\n",
            "Epoch 59/100\n",
            "569/569 [==============================] - 0s 46us/step - loss: 0.6224 - acc: 0.6485\n",
            "Epoch 60/100\n",
            "569/569 [==============================] - 0s 50us/step - loss: 0.6220 - acc: 0.6450\n",
            "Epoch 61/100\n",
            "569/569 [==============================] - 0s 48us/step - loss: 0.6217 - acc: 0.6450\n",
            "Epoch 62/100\n",
            "569/569 [==============================] - 0s 45us/step - loss: 0.6221 - acc: 0.6432\n",
            "Epoch 63/100\n",
            "569/569 [==============================] - 0s 51us/step - loss: 0.6216 - acc: 0.6467\n",
            "Epoch 64/100\n",
            "569/569 [==============================] - 0s 51us/step - loss: 0.6214 - acc: 0.6432\n",
            "Epoch 65/100\n",
            "569/569 [==============================] - 0s 44us/step - loss: 0.6216 - acc: 0.6432\n",
            "Epoch 66/100\n",
            "569/569 [==============================] - 0s 43us/step - loss: 0.6213 - acc: 0.6450\n",
            "Epoch 67/100\n",
            "569/569 [==============================] - 0s 46us/step - loss: 0.6209 - acc: 0.6415\n",
            "Epoch 68/100\n",
            "569/569 [==============================] - 0s 48us/step - loss: 0.6209 - acc: 0.6467\n",
            "Epoch 69/100\n",
            "569/569 [==============================] - 0s 49us/step - loss: 0.6203 - acc: 0.6467\n",
            "Epoch 70/100\n",
            "569/569 [==============================] - 0s 46us/step - loss: 0.6200 - acc: 0.6467\n",
            "Epoch 71/100\n",
            "569/569 [==============================] - 0s 48us/step - loss: 0.6197 - acc: 0.6485\n",
            "Epoch 72/100\n",
            "569/569 [==============================] - 0s 40us/step - loss: 0.6196 - acc: 0.6485\n",
            "Epoch 73/100\n",
            "569/569 [==============================] - 0s 55us/step - loss: 0.6193 - acc: 0.6450\n",
            "Epoch 74/100\n",
            "569/569 [==============================] - 0s 51us/step - loss: 0.6203 - acc: 0.6450\n",
            "Epoch 75/100\n",
            "569/569 [==============================] - 0s 46us/step - loss: 0.6199 - acc: 0.6467\n",
            "Epoch 76/100\n",
            "569/569 [==============================] - 0s 43us/step - loss: 0.6200 - acc: 0.6397\n",
            "Epoch 77/100\n",
            "569/569 [==============================] - 0s 48us/step - loss: 0.6190 - acc: 0.6415\n",
            "Epoch 78/100\n",
            "569/569 [==============================] - 0s 50us/step - loss: 0.6193 - acc: 0.6520\n",
            "Epoch 79/100\n",
            "569/569 [==============================] - 0s 44us/step - loss: 0.6190 - acc: 0.6450\n",
            "Epoch 80/100\n",
            "569/569 [==============================] - 0s 50us/step - loss: 0.6183 - acc: 0.6503\n",
            "Epoch 81/100\n",
            "569/569 [==============================] - 0s 48us/step - loss: 0.6182 - acc: 0.6538\n",
            "Epoch 82/100\n",
            "569/569 [==============================] - 0s 58us/step - loss: 0.6184 - acc: 0.6467\n",
            "Epoch 83/100\n",
            "569/569 [==============================] - 0s 45us/step - loss: 0.6182 - acc: 0.6415\n",
            "Epoch 84/100\n",
            "569/569 [==============================] - 0s 46us/step - loss: 0.6194 - acc: 0.6415\n",
            "Epoch 85/100\n",
            "569/569 [==============================] - 0s 45us/step - loss: 0.6174 - acc: 0.6467\n",
            "Epoch 86/100\n",
            "569/569 [==============================] - 0s 46us/step - loss: 0.6177 - acc: 0.6503\n",
            "Epoch 87/100\n",
            "569/569 [==============================] - 0s 43us/step - loss: 0.6176 - acc: 0.6503\n",
            "Epoch 88/100\n",
            "569/569 [==============================] - 0s 43us/step - loss: 0.6165 - acc: 0.6485\n",
            "Epoch 89/100\n",
            "569/569 [==============================] - 0s 47us/step - loss: 0.6170 - acc: 0.6397\n",
            "Epoch 90/100\n",
            "569/569 [==============================] - 0s 43us/step - loss: 0.6166 - acc: 0.6520\n",
            "Epoch 91/100\n",
            "569/569 [==============================] - 0s 50us/step - loss: 0.6169 - acc: 0.6467\n",
            "Epoch 92/100\n",
            "569/569 [==============================] - 0s 53us/step - loss: 0.6166 - acc: 0.6503\n",
            "Epoch 93/100\n",
            "569/569 [==============================] - 0s 48us/step - loss: 0.6158 - acc: 0.6467\n",
            "Epoch 94/100\n",
            "569/569 [==============================] - 0s 47us/step - loss: 0.6165 - acc: 0.6467\n",
            "Epoch 95/100\n",
            "569/569 [==============================] - 0s 45us/step - loss: 0.6157 - acc: 0.6503\n",
            "Epoch 96/100\n",
            "569/569 [==============================] - 0s 47us/step - loss: 0.6156 - acc: 0.6520\n",
            "Epoch 97/100\n",
            "569/569 [==============================] - 0s 44us/step - loss: 0.6152 - acc: 0.6485\n",
            "Epoch 98/100\n",
            "569/569 [==============================] - 0s 42us/step - loss: 0.6147 - acc: 0.6485\n",
            "Epoch 99/100\n",
            "569/569 [==============================] - 0s 47us/step - loss: 0.6147 - acc: 0.6485\n",
            "Epoch 100/100\n",
            "569/569 [==============================] - 0s 42us/step - loss: 0.6145 - acc: 0.6467\n"
          ],
          "name": "stdout"
        },
        {
          "output_type": "execute_result",
          "data": {
            "text/plain": [
              "<keras.callbacks.History at 0x7f2dfcb61f98>"
            ]
          },
          "metadata": {
            "tags": []
          },
          "execution_count": 35
        }
      ]
    }
  ]
}